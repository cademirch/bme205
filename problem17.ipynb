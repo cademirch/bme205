{
 "cells": [
  {
   "cell_type": "markdown",
   "id": "dependent-person",
   "metadata": {},
   "source": [
    "# Branch and Bound\n",
    "## Specification\n",
    "- Name: Template for Problem 16, 17, 18 in Rosalind\n",
    "- Name your notebooks as: problem16.ipynb, problem17.ipynb, problem18.ipynb\n",
    "- options: none\n",
    "- input: filename passed as first parameter to main\n",
    "- output: a text file. ( using print ( .... file=someFileObject) is a handy way to do this after you have opened someFileObject as a text file). I find it handy to name these files by creating a string by concatenating the string named infile with \".out\" ... rosalind4.txt.out ( for example).\n",
    "-Rosalind Problem Names:\n",
    "    - Find Substrings of a Genome Encoding a Given Amino Acid String\n",
    "    - Generate the Theoretical Spectrum of a Cyclic Peptide\n",
    "    - Find a Cyclic Peptide with Theoretical Spectrum Matching an Ideal Spectrum\n",
    "\n",
    "As always, include an Inspection Intro Markdown that describes your specific algorithm at the beginning of the notebook, and another Inspection Results markdown at the end of the notebook that documents: your inspection team, the findings of the team, and your resolution of those findings.\n",
    "\n",
    "Please submit your three notebooks, an example of one of the Rosalind files that you ran and passed, and the output that your program generated as a text file.\n",
    "\n",
    "## Description\n",
    "These are drawn from material presented in Ch. 4 of Compeau and Pevzner, with a focus on the Branch and Bound algorithm.\n",
    "\n",
    "## Hints\n",
    "1) Make sure to write your code with a well defined class that you instantiate an object from in your main() function\n",
    "Here is a template to consider."
   ]
  },
  {
   "cell_type": "markdown",
   "id": "portuguese-management",
   "metadata": {},
   "source": [
    "## Inspection Intro"
   ]
  },
  {
   "cell_type": "markdown",
   "id": "1039549d",
   "metadata": {},
   "source": [
    "To solve this problem we:\n",
    "1. Generate all possible fragments of the cylic peptide \n",
    "2. Calculate the masses of those fragments using a mass look up table\n",
    "3. Return the massses in a sorted list."
   ]
  },
  {
   "cell_type": "code",
   "execution_count": 5,
   "id": "photographic-vietnamese",
   "metadata": {},
   "outputs": [
    {
     "name": "stdout",
     "output_type": "stream",
     "text": [
      "0 57 57 71 87 87 103 128 128 128 137 144 147 147 156 190 194 204 204 215 215 218 227 231 256 265 272 275 291 302 303 318 318 322 341 359 359 360 374 374 393 405 412 419 431 431 446 446 447 450 462 469 496 506 518 521 533 540 553 568 574 575 578 578 583 590 597 609 635 640 646 661 662 665 668 696 700 711 715 718 722 733 737 765 768 771 772 787 793 798 824 836 843 850 855 855 858 859 865 880 893 900 912 915 927 937 964 971 983 986 987 987 1002 1002 1014 1021 1028 1040 1059 1059 1073 1074 1074 1092 1111 1115 1115 1130 1131 1142 1158 1161 1168 1177 1202 1206 1215 1218 1218 1229 1229 1239 1243 1277 1286 1286 1289 1296 1305 1305 1305 1330 1346 1346 1362 1376 1376 1433\n"
     ]
    }
   ],
   "source": [
    "def reverseComplement(seq: str) -> str:\n",
    "        \"\"\"Generates reverse complement for given sequence.\n",
    "\n",
    "        Args:\n",
    "            seq (str): Kmer of alphabet {A,G,C,T}\n",
    "\n",
    "        Returns:\n",
    "            str: Reverse complement of input seq\n",
    "        \"\"\"\n",
    "        return seq.translate(str.maketrans(\"AGCT\", \"TCGA\"))[::-1]\n",
    "\n",
    "class Peptides:\n",
    "    \"\"\"\n",
    "    Class Peptides for solving Rosalind #17\n",
    "\n",
    "    Parameters: \n",
    "        seq: str - The peptide string of amino acids\n",
    "    \"\"\"\n",
    "    def __init__(self, seq):\n",
    "        self.seq = seq\n",
    "        self.massTable = {\n",
    "            'G': 57, 'A': 71, 'S': 87,\n",
    "            'P': 97, 'V': 99, 'T': 101,\n",
    "            'C': 103, 'I': 113, 'L': 113,\n",
    "            'N': 114, 'D': 115, 'K': 128,\n",
    "            'Q': 128, 'E': 129, 'M': 131,\n",
    "            'H': 137, 'F': 147, 'R': 156,\n",
    "            'Y': 163, 'W': 186\n",
    "        }\n",
    "    def getFragments(self):\n",
    "        \"\"\"\n",
    "        Helper function for getMass().\n",
    "        Generates the all possible fragments of the cyclic peptide\n",
    "        \"\"\"\n",
    "        # double input seq to make cyclic fragments\n",
    "        seqCycle = self.seq*2\n",
    "\n",
    "        # initate output list with the input seq already in it\n",
    "        out = [self.seq]\n",
    "    \n",
    "        for i in range(len(self.seq)):\n",
    "            for j in range(1, len(self.seq)):\n",
    "                subseq = seqCycle[i:i+j]\n",
    "                out.append(subseq)\n",
    "            \n",
    "        return out\n",
    "    def getMass(self):\n",
    "        \"\"\"\n",
    "        Calcualtes the mass of all of the fragments of a cylcic peptide.\n",
    "        \"\"\"\n",
    "        out = [0]\n",
    "        fragments = self.getFragments()\n",
    "        for fragment in fragments:\n",
    "            mass = sum([self.massTable[f] for f in fragment])\n",
    "            out.append(mass)\n",
    "        \n",
    "        return sorted(out)\n",
    "        \n",
    "def main(inFile = None):\n",
    "    '''\n",
    "    Do the main thing\n",
    "    '''\n",
    "    \n",
    "    with open(inFile, \"r\") as f:\n",
    "        line = f.readline().strip()\n",
    "    peptide = Peptides(line)\n",
    "    mass = peptide.getMass()\n",
    "\n",
    "    with open(\"cmirchandani_rosalind17_out.txt\", \"w\") as out:\n",
    "        print(*mass, sep=\" \")\n",
    "        print(*mass, sep=\" \", file=out)\n",
    "    \n",
    "    \n",
    "    \n",
    "    \n",
    "if __name__ == \"__main__\":\n",
    "    main(inFile = 'rosalind_ba4c.txt') "
   ]
  },
  {
   "cell_type": "markdown",
   "id": "paperback-warning",
   "metadata": {},
   "source": [
    "## Inspection Results"
   ]
  },
  {
   "cell_type": "markdown",
   "id": "92078e9b",
   "metadata": {},
   "source": [
    "Inspection group: Gabe P., Jodie J.,\n",
    "\n",
    "- Added print to stdout as well as file\n",
    "- Added more inline comments to explain code"
   ]
  }
 ],
 "metadata": {
  "kernelspec": {
   "display_name": "Python 3",
   "language": "python",
   "name": "python3"
  },
  "language_info": {
   "codemirror_mode": {
    "name": "ipython",
    "version": 3
   },
   "file_extension": ".py",
   "mimetype": "text/x-python",
   "name": "python",
   "nbconvert_exporter": "python",
   "pygments_lexer": "ipython3",
   "version": "3.9.13 (main, May 24 2022, 21:13:51) \n[Clang 13.1.6 (clang-1316.0.21.2)]"
  },
  "vscode": {
   "interpreter": {
    "hash": "b0fa6594d8f4cbf19f97940f81e996739fb7646882a419484c72d19e05852a7e"
   }
  }
 },
 "nbformat": 4,
 "nbformat_minor": 5
}
