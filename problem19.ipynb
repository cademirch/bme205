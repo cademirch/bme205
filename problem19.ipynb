{
 "cells": [
  {
   "cell_type": "markdown",
   "id": "dependent-person",
   "metadata": {},
   "source": [
    "# HMM 1\n",
    "## Specification\n",
    "- Name: Cade Mirchandani\n",
    "- Group: Jodie, Gabe\n",
    "- Name your notebooks as: problem19.ipynb, problem20.ipynb, problem 22.ipynb\n",
    "- options: none\n",
    "- input: filename passed as first parameter to main\n",
    "- output: a text file. ( using print ( .... file=someFileObject) is a handy way to do this after you have opened someFileObject as a text file). I find it name to name these files by creating a string by concatenating the string named infile with \".out\" ... rosalind_ba10a.txt.out ( for example).\n",
    "-Rosalind Problem Names:\n",
    "    - Compute the Probability of a Hidden Path\n",
    "    - Compute the Probability of an Outcome Given a Hidden Path\n",
    "    - Implement the Viterbi Algorithm\n",
    "    - Compute the Probability of a String Emitted by an HMM\n",
    "\n",
    "As always, include an Inspection Intro Markdown that describes your specific algorithm at the beginning of the notebook, and another Inspection Results markdown at the end of the notebook that documents: your inspection team, the findings of the team, and your resolution of those findings.\n",
    "\n",
    "Please submit your notebooks, an example of one of the Rosalind files that you ran and passed, and the output that your program generated as a text file.\n",
    "\n",
    "## Description\n",
    "These are drawn from material presented in Ch. 10 of Compeau and Pevzner.\n",
    "\n",
    "We begin an exploration of models that provide us with inference into the hidden meaning lying within a sequence. Four HMM Rosalind examples provide a framework that will extend throughout the course. Note that these examples operate with probabilities rather than log-probabilities or log-odds scores. The concepts of the models are consistent, however.\n",
    "\n",
    "Please submit the rosalind input file that you tested with. This would be one of the \"Extra Datasets\" for each problem\n",
    "\n",
    "## Hints\n",
    "1) use of the python numpy module will simplify many of your operators, especially when higher precision math is required ( when products of many probabilities are calculated), or when vector operations are called for.\n",
    "\n",
    "2) Concepts presented in class will mirror those in the reading\n",
    "\n",
    "3) write your code for reusability. \n",
    "\n",
    "4) Consider your data structures carefully. You will likely need transition and emission matrices. Carefully consider how to address these. For those who are comfortable with dot product and matrix multiplication, these can dramatically simplify your code.\n",
    "\n",
    "Here is a template to consider."
   ]
  },
  {
   "cell_type": "markdown",
   "id": "portuguese-management",
   "metadata": {},
   "source": [
    "## Inspection Intro"
   ]
  },
  {
   "cell_type": "markdown",
   "id": "55cedfab",
   "metadata": {},
   "source": [
    "For this problem we have to calculate the probability of a given path. We initalize the transition matrix given and use that to calculate the probability.\n",
    "\n",
    "We iterate each node in the path and keep multiplying the probability of that node given the next."
   ]
  },
  {
   "cell_type": "code",
   "execution_count": 1,
   "id": "photographic-vietnamese",
   "metadata": {},
   "outputs": [
    {
     "name": "stdout",
     "output_type": "stream",
     "text": [
      "1.8142874277625275e-45\n"
     ]
    }
   ],
   "source": [
    "from collections import defaultdict\n",
    "\n",
    "class HMM:\n",
    "    def __init__(self, emits=None, states=None, transition=None, emission=None):\n",
    "        \"\"\"\n",
    "        Class HMM holds the code for working with HMMs from rosalind.\n",
    "\n",
    "        Args:\n",
    "            tranistion (dict): transition matrix\n",
    "            states (list): possible states\n",
    "        \"\"\"\n",
    "        self.transitionMatrix = transition\n",
    "        self.states = states\n",
    "\n",
    "    def pathProbability(self, path):\n",
    "        \"\"\"\n",
    "        Computes probability of given path using transition matrix.\n",
    "\n",
    "        Args:\n",
    "            path (str): Input path\n",
    "            \n",
    "        \n",
    "        Returns:\n",
    "            prob (float): Computed probability.\n",
    "        \"\"\"\n",
    "        prob = 1.0 / len(self.states)\n",
    "        for i in range(len(path)-1):\n",
    "            prob *= self.transitionMatrix[path[i]][path[i+1]]\n",
    "        return prob\n",
    "\n",
    "\n",
    "def main(inFile = None):\n",
    "    '''\n",
    "    Do the main thing\n",
    "    '''\n",
    "    with open(inFile) as fh:\n",
    "        path = fh.readline().rstrip()\n",
    "        junk = fh.readline().rstrip()\n",
    "        states = fh.readline().rstrip().split()\n",
    "        junk = fh.readline().rstrip()\n",
    "        columns = fh.readline().rstrip().split()\n",
    "        rows = {}\n",
    "        # read rows\n",
    "        transition = defaultdict(dict)\n",
    "        for line in fh:\n",
    "            rowState = line[0]\n",
    "            probs = [float(f) for f in line[1:].split()]\n",
    "            for i in range(len(probs)):\n",
    "                transition[rowState][columns[i]] = probs[i]  \n",
    "\n",
    "    thisHMM = HMM(transition=transition, states=states)\n",
    "    output = thisHMM.pathProbability(path)\n",
    "    \n",
    "    with open(\"cm_19_out.txt\", \"w\") as out:\n",
    "        print(output, file=out)\n",
    "        print(output)\n",
    "    \n",
    "    \n",
    "if __name__ == \"__main__\":\n",
    "    main(inFile = 'rosalind_ba10a.txt') "
   ]
  },
  {
   "cell_type": "markdown",
   "id": "paperback-warning",
   "metadata": {},
   "source": [
    "## Inspection Results"
   ]
  },
  {
   "cell_type": "markdown",
   "id": "a89023b1",
   "metadata": {},
   "source": [
    "- Added inline comments\n",
    "- Changed np ndarray for nested dict for matrix\n",
    "- Fixed class docstring to include all attributes"
   ]
  }
 ],
 "metadata": {
  "kernelspec": {
   "display_name": "Python 3.9.13 ('base')",
   "language": "python",
   "name": "python3"
  },
  "language_info": {
   "codemirror_mode": {
    "name": "ipython",
    "version": 3
   },
   "file_extension": ".py",
   "mimetype": "text/x-python",
   "name": "python",
   "nbconvert_exporter": "python",
   "pygments_lexer": "ipython3",
   "version": "3.9.13"
  },
  "vscode": {
   "interpreter": {
    "hash": "574c17905aec8780449703e5a8496f5494a674c5ecaff84621a4f9ba1ac8ab3e"
   }
  }
 },
 "nbformat": 4,
 "nbformat_minor": 5
}
